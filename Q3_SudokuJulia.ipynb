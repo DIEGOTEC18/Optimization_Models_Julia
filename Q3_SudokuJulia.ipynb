{
 "cells": [
  {
   "cell_type": "code",
   "execution_count": 18,
   "metadata": {},
   "outputs": [
    {
     "name": "stdout",
     "output_type": "stream",
     "text": [
      "\u001b[32m\u001b[1m Resolving\u001b[22m\u001b[39m package versions...\n",
      "\u001b[32m\u001b[1m  Updating\u001b[22m\u001b[39m `C:\\Users\\dvaba\\.julia\\environments\\v1.3\\Project.toml`\n",
      "\u001b[90m [no changes]\u001b[39m\n",
      "\u001b[32m\u001b[1m  Updating\u001b[22m\u001b[39m `C:\\Users\\dvaba\\.julia\\environments\\v1.3\\Manifest.toml`\n",
      "\u001b[90m [no changes]\u001b[39m\n"
     ]
    }
   ],
   "source": [
    "#This program was worked on by:\n",
    "\"\"\"\n",
    "- Diego Velázquez Álvarez (A01027322)\n",
    "- Sebastian Anaya (A01025398)\n",
    "- Alan Galán (A01655268)\n",
    "- Patricio Martín (A01021927)\n",
    "- Emilio Silva (A01022040)\n",
    "- Kevin Cano (A01374465)\n",
    "- Juan Carlos Guerra (A01139692)\n",
    "- Javier Perezanta (A01026284)\n",
    "\"\"\"\n",
    "#Based on the works of Iain Dunning.\n",
    "\"\"\"\n",
    "Sources:\n",
    "- https://github.com/JuliaOpt/juliaopt-notebooks/blob/master/notebooks/JuMP-Sudoku.ipynb\n",
    "- https://www.juliaopt.org/notebooks/JuMP-Sudoku.html\n",
    "\"\"\"\n",
    "\n",
    "using Pkg\n",
    "Pkg.add(\"Cbc\")"
   ]
  },
  {
   "cell_type": "code",
   "execution_count": 17,
   "metadata": {},
   "outputs": [
    {
     "name": "stderr",
     "output_type": "stream",
     "text": [
      "┌ Warning: `with_optimizer` is deprecated. Adapt the following example to update your code:\n",
      "│ `with_optimizer(Ipopt.Optimizer)` becomes `Ipopt.Optimizer`.\n",
      "│   caller = top-level scope at In[17]:3\n",
      "└ @ Core In[17]:3\n"
     ]
    },
    {
     "name": "stdout",
     "output_type": "stream",
     "text": [
      "[5 3 4 6 7 8 9 1 2; 6 7 2 1 9 5 3 4 8; 1 9 8 3 4 2 5 6 7; 8 5 9 7 6 1 4 2 3; 4 2 6 8 5 3 7 9 1; 7 1 3 9 2 4 8 5 6; 9 6 1 5 3 7 2 8 4; 2 8 7 4 1 9 6 3 5; 3 4 5 2 8 6 1 7 9]\n",
      "Welcome to the CBC MILP Solver \n",
      "Version: 2.10.3 \n",
      "Build Date: Oct  7 2019 \n",
      "\n",
      "command line - Cbc_C_Interface -solve -quit (default strategy 1)\n",
      "Continuous objective value is 0 - 0.00 seconds\n",
      "Cgl0004I processed model has 0 rows, 0 columns (0 integer (0 of which binary)) and 0 elements\n",
      "Cbc3007W No integer variables - nothing to do\n",
      "Cuts at root node changed objective from 0 to -1.79769e+308\n",
      "Probing was tried 0 times and created 0 cuts of which 0 were active after adding rounds of cuts (0.000 seconds)\n",
      "Gomory was tried 0 times and created 0 cuts of which 0 were active after adding rounds of cuts (0.000 seconds)\n",
      "Knapsack was tried 0 times and created 0 cuts of which 0 were active after adding rounds of cuts (0.000 seconds)\n",
      "Clique was tried 0 times and created 0 cuts of which 0 were active after adding rounds of cuts (0.000 seconds)\n",
      "MixedIntegerRounding2 was tried 0 times and created 0 cuts of which 0 were active after adding rounds of cuts (0.000 seconds)\n",
      "FlowCover was tried 0 times and created 0 cuts of which 0 were active after adding rounds of cuts (0.000 seconds)\n",
      "TwoMirCuts was tried 0 times and created 0 cuts of which 0 were active after adding rounds of cuts (0.000 seconds)\n",
      "ZeroHalf was tried 0 times and created 0 cuts of which 0 were active after adding rounds of cuts (0.000 seconds)\n",
      "\n",
      "Result - Optimal solution found\n",
      "\n",
      "Objective value:                0.00000000\n",
      "Enumerated nodes:               0\n",
      "Total iterations:               0\n",
      "Time (CPU seconds):             0.01\n",
      "Time (Wallclock seconds):       0.01\n",
      "\n",
      "Total time (CPU seconds):       0.01   (Wallclock seconds):       0.01\n",
      "\n"
     ]
    }
   ],
   "source": [
    "using JuMP\n",
    "using Cbc\n",
    "\n",
    "sudoku = Model(with_optimizer(Cbc.Optimizer))\n",
    "\n",
    "@variable(sudoku, x[i=1:9, j=1:9, k=1:9], Bin)\n",
    "\n",
    "#Just one number per cell:\n",
    "for i = 1:9, j = 1:9\n",
    "    \n",
    "    @constraint(sudoku, sum(x[i,j,k] for k = 1:9) == 1)\n",
    "    \n",
    "end\n",
    "\n",
    "for ind = 1:9\n",
    "    for k = 1:9\n",
    "        \n",
    "        @constraint(sudoku, sum(x[ind,j,k] for j = 1:9) == 1)\n",
    "        \n",
    "        @constraint(sudoku, sum(x[i,ind,k] for i = 1:9) == 1)\n",
    "        \n",
    "    end\n",
    "end\n",
    "\n",
    "for i=1:3:7, j=1:3:7, k=1:9\n",
    "    \n",
    "    @constraint(sudoku, sum(x[r,c,k] for r = i:i + 2 for c = j:j + 2) == 1)\n",
    "    \n",
    "end\n",
    "\n",
    "init_sol = [5 3 0 0 7 0 0 0 0;\n",
    "             6 0 0 1 9 5 0 0 0;\n",
    "             0 9 8 0 0 0 0 6 0;\n",
    "             8 0 0 0 6 0 0 0 3;\n",
    "             4 0 0 8 0 3 0 0 1;\n",
    "             7 0 0 0 2 0 0 0 6;\n",
    "             0 6 0 0 0 0 2 8 0;\n",
    "             0 0 0 4 1 9 0 0 5;\n",
    "             0 0 0 0 8 0 0 7 9]\n",
    "\n",
    "for i = 1:9, j = 1:9\n",
    "                    \n",
    "    if init_sol[i,j] != 0\n",
    "                        \n",
    "        @constraint(sudoku, x[i,j,init_sol[i,j]] == 1)\n",
    "                        \n",
    "    end\n",
    "                    \n",
    "end\n",
    "\n",
    "#solve(sudoku)\n",
    "                \n",
    "status = JuMP.optimize!(sudoku)\n",
    "\n",
    "x_val = value.(x)\n",
    "                \n",
    "sol = zeros(Int,9,9)\n",
    "                \n",
    "for i in 1:9, j in 1:9, k in 1:9\n",
    "                    \n",
    "    if round(x_val[i,j,k]) == 1\n",
    "                        \n",
    "        sol[i,j] = k\n",
    "                        \n",
    "    end\n",
    "end\n",
    "\n",
    "println(sol)"
   ]
  },
  {
   "cell_type": "code",
   "execution_count": null,
   "metadata": {},
   "outputs": [],
   "source": []
  }
 ],
 "metadata": {
  "kernelspec": {
   "display_name": "Julia 1.3.1",
   "language": "julia",
   "name": "julia-1.3"
  },
  "language_info": {
   "file_extension": ".jl",
   "mimetype": "application/julia",
   "name": "julia",
   "version": "1.3.1"
  }
 },
 "nbformat": 4,
 "nbformat_minor": 2
}
